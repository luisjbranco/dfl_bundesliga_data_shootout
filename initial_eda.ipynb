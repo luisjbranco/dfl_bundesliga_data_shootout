{
 "cells": [
  {
   "cell_type": "markdown",
   "id": "a1c578ed",
   "metadata": {},
   "source": [
    "## EDA of Bundesliga Data Shootout 2022"
   ]
  },
  {
   "cell_type": "code",
   "execution_count": 1,
   "id": "e8873159",
   "metadata": {},
   "outputs": [],
   "source": [
    "import pandas as pd\n",
    "import numpy as np"
   ]
  },
  {
   "cell_type": "code",
   "execution_count": 2,
   "id": "4d0ef21f",
   "metadata": {},
   "outputs": [],
   "source": [
    "train = pd.read_csv(\"../train.csv\")"
   ]
  },
  {
   "cell_type": "code",
   "execution_count": 3,
   "id": "22717324",
   "metadata": {},
   "outputs": [
    {
     "data": {
      "text/html": [
       "<div>\n",
       "<style scoped>\n",
       "    .dataframe tbody tr th:only-of-type {\n",
       "        vertical-align: middle;\n",
       "    }\n",
       "\n",
       "    .dataframe tbody tr th {\n",
       "        vertical-align: top;\n",
       "    }\n",
       "\n",
       "    .dataframe thead th {\n",
       "        text-align: right;\n",
       "    }\n",
       "</style>\n",
       "<table border=\"1\" class=\"dataframe\">\n",
       "  <thead>\n",
       "    <tr style=\"text-align: right;\">\n",
       "      <th></th>\n",
       "      <th>video_id</th>\n",
       "      <th>time</th>\n",
       "      <th>event</th>\n",
       "      <th>event_attributes</th>\n",
       "    </tr>\n",
       "  </thead>\n",
       "  <tbody>\n",
       "    <tr>\n",
       "      <th>0</th>\n",
       "      <td>1606b0e6_0</td>\n",
       "      <td>200.265822</td>\n",
       "      <td>start</td>\n",
       "      <td>NaN</td>\n",
       "    </tr>\n",
       "    <tr>\n",
       "      <th>1</th>\n",
       "      <td>1606b0e6_0</td>\n",
       "      <td>201.150000</td>\n",
       "      <td>challenge</td>\n",
       "      <td>['ball_action_forced']</td>\n",
       "    </tr>\n",
       "    <tr>\n",
       "      <th>2</th>\n",
       "      <td>1606b0e6_0</td>\n",
       "      <td>202.765822</td>\n",
       "      <td>end</td>\n",
       "      <td>NaN</td>\n",
       "    </tr>\n",
       "    <tr>\n",
       "      <th>3</th>\n",
       "      <td>1606b0e6_0</td>\n",
       "      <td>210.124111</td>\n",
       "      <td>start</td>\n",
       "      <td>NaN</td>\n",
       "    </tr>\n",
       "    <tr>\n",
       "      <th>4</th>\n",
       "      <td>1606b0e6_0</td>\n",
       "      <td>210.870000</td>\n",
       "      <td>challenge</td>\n",
       "      <td>['opponent_dispossessed']</td>\n",
       "    </tr>\n",
       "  </tbody>\n",
       "</table>\n",
       "</div>"
      ],
      "text/plain": [
       "     video_id        time      event           event_attributes\n",
       "0  1606b0e6_0  200.265822      start                        NaN\n",
       "1  1606b0e6_0  201.150000  challenge     ['ball_action_forced']\n",
       "2  1606b0e6_0  202.765822        end                        NaN\n",
       "3  1606b0e6_0  210.124111      start                        NaN\n",
       "4  1606b0e6_0  210.870000  challenge  ['opponent_dispossessed']"
      ]
     },
     "execution_count": 3,
     "metadata": {},
     "output_type": "execute_result"
    }
   ],
   "source": [
    "train.head()"
   ]
  },
  {
   "cell_type": "markdown",
   "id": "e08324d9",
   "metadata": {},
   "source": [
    "Our training data consists of 12 halves of football matches. 4 of the matches have both halves and the other halves come from different matches."
   ]
  },
  {
   "cell_type": "code",
   "execution_count": 4,
   "id": "6463cbf5",
   "metadata": {},
   "outputs": [
    {
     "data": {
      "text/plain": [
       "array(['1606b0e6_0', '1606b0e6_1', '35bd9041_0', '35bd9041_1',\n",
       "       '3c993bd2_0', '3c993bd2_1', '407c5a9e_1', '4ffd5986_0',\n",
       "       '9a97dae4_1', 'cfbe2e94_0', 'cfbe2e94_1', 'ecf251d4_0'],\n",
       "      dtype=object)"
      ]
     },
     "execution_count": 4,
     "metadata": {},
     "output_type": "execute_result"
    }
   ],
   "source": [
    "train[\"video_id\"].unique()"
   ]
  },
  {
   "cell_type": "code",
   "execution_count": 5,
   "id": "2c0fae6b",
   "metadata": {},
   "outputs": [
    {
     "data": {
      "text/plain": [
       "12"
      ]
     },
     "execution_count": 5,
     "metadata": {},
     "output_type": "execute_result"
    }
   ],
   "source": [
    "train[\"video_id\"].nunique()"
   ]
  },
  {
   "cell_type": "markdown",
   "id": "cfa68335",
   "metadata": {},
   "source": [
    "This table appears to include all of the events included in those files along with the time of occurrence."
   ]
  },
  {
   "cell_type": "code",
   "execution_count": 6,
   "id": "c0bd0e35",
   "metadata": {},
   "outputs": [
    {
     "data": {
      "text/plain": [
       "array(['start', 'challenge', 'end', 'throwin', 'play'], dtype=object)"
      ]
     },
     "execution_count": 6,
     "metadata": {},
     "output_type": "execute_result"
    }
   ],
   "source": [
    "train[\"event\"].unique()"
   ]
  },
  {
   "cell_type": "markdown",
   "id": "c0371b06",
   "metadata": {},
   "source": [
    "We can have 3 different types of events : \n",
    "* challenge;\n",
    "* throwin;\n",
    "* play;\n",
    "\n",
    "Above we can observe that we also have two other types on our table :\n",
    "* start;\n",
    "* end;\n",
    "\n",
    "These are included to represent the scoring interval. These can let us know when the event starts and ends and allows for the evaluation process."
   ]
  },
  {
   "cell_type": "code",
   "execution_count": 7,
   "id": "7af92db7",
   "metadata": {},
   "outputs": [
    {
     "data": {
      "text/plain": [
       "count    11218.000000\n",
       "mean      1787.796418\n",
       "std        860.845970\n",
       "min        175.025822\n",
       "25%       1050.635250\n",
       "50%       1769.089449\n",
       "75%       2527.932750\n",
       "max       3575.000727\n",
       "Name: time, dtype: float64"
      ]
     },
     "execution_count": 7,
     "metadata": {},
     "output_type": "execute_result"
    }
   ],
   "source": [
    "train[\"time\"].describe()"
   ]
  },
  {
   "cell_type": "markdown",
   "id": "fd6346e9",
   "metadata": {},
   "source": [
    "Each file contains a half period of play time in football and these have around 50 mins. The play time for each half in football is 45 mins but games normally have extra time.\n",
    "As we can see the our time variable ranges from around 175 to 3575 seconds, alternatively 3 to 60 minutes."
   ]
  },
  {
   "cell_type": "code",
   "execution_count": 8,
   "id": "630b7419",
   "metadata": {},
   "outputs": [
    {
     "data": {
      "text/plain": [
       "array([nan, \"['ball_action_forced']\", \"['opponent_dispossessed']\",\n",
       "       \"['pass']\", \"['pass', 'openplay']\", \"['cross', 'openplay']\",\n",
       "       \"['possession_retained']\", \"['pass', 'freekick']\", \"['cross']\",\n",
       "       \"['fouled']\", \"['opponent_rounded']\", \"['cross', 'corner']\",\n",
       "       \"['challenge_during_ball_transfer']\", \"['cross', 'freekick']\",\n",
       "       \"['pass', 'corner']\"], dtype=object)"
      ]
     },
     "execution_count": 8,
     "metadata": {},
     "output_type": "execute_result"
    }
   ],
   "source": [
    "train[\"event_attributes\"].unique()"
   ]
  },
  {
   "cell_type": "markdown",
   "id": "f8522cdd",
   "metadata": {},
   "source": [
    "Event attributes appears to provide extra information on the events. "
   ]
  },
  {
   "cell_type": "code",
   "execution_count": 40,
   "id": "0d2843c9",
   "metadata": {},
   "outputs": [
    {
     "data": {
      "text/html": [
       "<div>\n",
       "<style scoped>\n",
       "    .dataframe tbody tr th:only-of-type {\n",
       "        vertical-align: middle;\n",
       "    }\n",
       "\n",
       "    .dataframe tbody tr th {\n",
       "        vertical-align: top;\n",
       "    }\n",
       "\n",
       "    .dataframe thead th {\n",
       "        text-align: right;\n",
       "    }\n",
       "</style>\n",
       "<table border=\"1\" class=\"dataframe\">\n",
       "  <thead>\n",
       "    <tr style=\"text-align: right;\">\n",
       "      <th>video_id</th>\n",
       "      <th>1606b0e6_0</th>\n",
       "      <th>1606b0e6_1</th>\n",
       "      <th>35bd9041_0</th>\n",
       "      <th>35bd9041_1</th>\n",
       "      <th>3c993bd2_0</th>\n",
       "      <th>3c993bd2_1</th>\n",
       "      <th>407c5a9e_1</th>\n",
       "      <th>4ffd5986_0</th>\n",
       "      <th>9a97dae4_1</th>\n",
       "      <th>cfbe2e94_0</th>\n",
       "      <th>cfbe2e94_1</th>\n",
       "      <th>ecf251d4_0</th>\n",
       "    </tr>\n",
       "    <tr>\n",
       "      <th>event</th>\n",
       "      <th></th>\n",
       "      <th></th>\n",
       "      <th></th>\n",
       "      <th></th>\n",
       "      <th></th>\n",
       "      <th></th>\n",
       "      <th></th>\n",
       "      <th></th>\n",
       "      <th></th>\n",
       "      <th></th>\n",
       "      <th></th>\n",
       "      <th></th>\n",
       "    </tr>\n",
       "  </thead>\n",
       "  <tbody>\n",
       "    <tr>\n",
       "      <th>challenge</th>\n",
       "      <td>14.14</td>\n",
       "      <td>11.83</td>\n",
       "      <td>11.68</td>\n",
       "      <td>15.88</td>\n",
       "      <td>12.80</td>\n",
       "      <td>18.62</td>\n",
       "      <td>16.00</td>\n",
       "      <td>18.87</td>\n",
       "      <td>16.49</td>\n",
       "      <td>11.48</td>\n",
       "      <td>13.33</td>\n",
       "      <td>11.92</td>\n",
       "    </tr>\n",
       "    <tr>\n",
       "      <th>play</th>\n",
       "      <td>80.56</td>\n",
       "      <td>85.60</td>\n",
       "      <td>86.37</td>\n",
       "      <td>80.78</td>\n",
       "      <td>83.82</td>\n",
       "      <td>76.86</td>\n",
       "      <td>80.86</td>\n",
       "      <td>77.81</td>\n",
       "      <td>81.44</td>\n",
       "      <td>79.02</td>\n",
       "      <td>81.40</td>\n",
       "      <td>83.94</td>\n",
       "    </tr>\n",
       "    <tr>\n",
       "      <th>throwin</th>\n",
       "      <td>5.30</td>\n",
       "      <td>2.56</td>\n",
       "      <td>1.95</td>\n",
       "      <td>3.34</td>\n",
       "      <td>3.38</td>\n",
       "      <td>4.52</td>\n",
       "      <td>3.14</td>\n",
       "      <td>3.31</td>\n",
       "      <td>2.06</td>\n",
       "      <td>9.51</td>\n",
       "      <td>5.26</td>\n",
       "      <td>4.15</td>\n",
       "    </tr>\n",
       "  </tbody>\n",
       "</table>\n",
       "</div>"
      ],
      "text/plain": [
       "video_id   1606b0e6_0  1606b0e6_1  35bd9041_0  35bd9041_1  3c993bd2_0  \\\n",
       "event                                                                   \n",
       "challenge       14.14       11.83       11.68       15.88       12.80   \n",
       "play            80.56       85.60       86.37       80.78       83.82   \n",
       "throwin          5.30        2.56        1.95        3.34        3.38   \n",
       "\n",
       "video_id   3c993bd2_1  407c5a9e_1  4ffd5986_0  9a97dae4_1  cfbe2e94_0  \\\n",
       "event                                                                   \n",
       "challenge       18.62       16.00       18.87       16.49       11.48   \n",
       "play            76.86       80.86       77.81       81.44       79.02   \n",
       "throwin          4.52        3.14        3.31        2.06        9.51   \n",
       "\n",
       "video_id   cfbe2e94_1  ecf251d4_0  \n",
       "event                              \n",
       "challenge       13.33       11.92  \n",
       "play            81.40       83.94  \n",
       "throwin          5.26        4.15  "
      ]
     },
     "execution_count": 40,
     "metadata": {},
     "output_type": "execute_result"
    }
   ],
   "source": [
    "event_summary = train[~train[\"event\"].isin([\"start\", \"end\"])].groupby([\"video_id\", \"event\"])[\"time\"].count() / train[~train[\"event\"].isin([\"start\", \"end\"])].groupby([\"video_id\"])[\"time\"].count() * 100\n",
    "event_summary_df = pd.DataFrame(event_summary).reset_index()\n",
    "event_summary_df.columns = [\"video_id\", \"event\", \"%_total\"]\n",
    "event_summary_df[\"%_total\"] = event_summary_df[\"%_total\"].round(2)\n",
    "pd.pivot_table(event_summary_df, values=\"%_total\", index=\"event\", columns=\"video_id\")"
   ]
  },
  {
   "cell_type": "markdown",
   "id": "6d1fab65",
   "metadata": {},
   "source": [
    "With the previous table we can observe the percentage of each event. \"play\" events account for the majority in all of the training files as it was expected. Most of the time in a football match we have open play. "
   ]
  },
  {
   "cell_type": "code",
   "execution_count": 43,
   "id": "ea7321d8",
   "metadata": {},
   "outputs": [
    {
     "data": {
      "text/plain": [
       "1606b0e6_1    507\n",
       "3c993bd2_0    414\n",
       "35bd9041_0    411\n",
       "1606b0e6_0    396\n",
       "ecf251d4_0    386\n",
       "3c993bd2_1    376\n",
       "35bd9041_1    359\n",
       "407c5a9e_1    350\n",
       "cfbe2e94_0    305\n",
       "4ffd5986_0    302\n",
       "9a97dae4_1    291\n",
       "cfbe2e94_1    285\n",
       "Name: video_id, dtype: int64"
      ]
     },
     "execution_count": 43,
     "metadata": {},
     "output_type": "execute_result"
    }
   ],
   "source": [
    "train[~train[\"event\"].isin([\"start\", \"end\"])][\"video_id\"].value_counts()"
   ]
  },
  {
   "cell_type": "markdown",
   "id": "9ef71719",
   "metadata": {},
   "source": [
    "The number of events per file ranges from 285 to 507"
   ]
  },
  {
   "cell_type": "markdown",
   "id": "0d3a96c2",
   "metadata": {},
   "source": [
    "By opening our file with the most events it was recognized that the warmup exercises are included. Hence our unusual time of around 60 mins in the video. This should be noted."
   ]
  },
  {
   "cell_type": "code",
   "execution_count": 45,
   "id": "aaeb195e",
   "metadata": {},
   "outputs": [
    {
     "data": {
      "text/plain": [
       "37"
      ]
     },
     "execution_count": 45,
     "metadata": {},
     "output_type": "execute_result"
    }
   ],
   "source": []
  },
  {
   "cell_type": "code",
   "execution_count": null,
   "id": "e36cbd1d",
   "metadata": {},
   "outputs": [],
   "source": []
  }
 ],
 "metadata": {
  "kernelspec": {
   "display_name": "Python 3 (ipykernel)",
   "language": "python",
   "name": "python3"
  },
  "language_info": {
   "codemirror_mode": {
    "name": "ipython",
    "version": 3
   },
   "file_extension": ".py",
   "mimetype": "text/x-python",
   "name": "python",
   "nbconvert_exporter": "python",
   "pygments_lexer": "ipython3",
   "version": "3.9.12"
  }
 },
 "nbformat": 4,
 "nbformat_minor": 5
}
